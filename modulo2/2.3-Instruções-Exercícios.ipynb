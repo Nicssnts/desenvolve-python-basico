{
 "cells": [
  {
   "cell_type": "markdown",
   "metadata": {
    "id": "1pCTdOHonv5f"
   },
   "source": [
    "# Módulo 2\n",
    "\n",
    "## 2.3 Instruções e Expressões\n",
    "\n",
    "### Q1\n",
    "\n",
    "Faça um programa que armazene o valor de 20 reais de salário por hora de um trabalhador, e o número de 40 horas trabalhadas na semana. Com essas informações, calcule e imprima:\n",
    "- Salário semanal bruto\n",
    "- Valor descontado por semana INSS (10% do bruto)\n",
    "- Valor descontado por semana pelo sindicato (5% do bruto)\n",
    "- Salário semanal líquido (Bruto - Descontos)"
   ]
  },
  {
   "cell_type": "code",
   "execution_count": 1,
   "metadata": {
    "id": "hVbX0I97nj6M"
   },
   "outputs": [
    {
     "name": "stdout",
     "output_type": "stream",
     "text": [
      "Salário semanal bruto: R$ 800\n",
      "Desconto INSS (10%): R$ 80.0\n",
      "Desconto Sindicato (5%): R$ 40.0\n",
      "Salário semanal líquido: R$ 680.0\n"
     ]
    }
   ],
   "source": [
    "salario_por_hora = 20\n",
    "horas_trabalhadas = 40\n",
    "\n",
    "salario_bruto = salario_por_hora * horas_trabalhadas\n",
    "desconto_inss = salario_bruto * 0.10\n",
    "desconto_sindicato = salario_bruto * 0.05\n",
    "salario_liquido = salario_bruto - (desconto_inss + desconto_sindicato)\n",
    "\n",
    "print(\"Salário semanal bruto: R$\", salario_bruto)\n",
    "print(\"Desconto INSS (10%): R$\", desconto_inss)\n",
    "print(\"Desconto Sindicato (5%): R$\", desconto_sindicato)\n",
    "print(\"Salário semanal líquido: R$\", salario_liquido)"
   ]
  },
  {
   "cell_type": "markdown",
   "metadata": {
    "id": "pIxKX9J2oGZ1"
   },
   "source": [
    "### Q2\n",
    "\n",
    "Altere o programa anterior para a partir dos valores de horas trabalhadas por semana e salário por hora, calcular **em somente duas instruções**:\n",
    "- Salário semanal bruto\n",
    "- Salário semanal líquido com todos os descontos. Para a segunda instrução, realize todos os cálculos aritméticos em uma expressão composta.\n"
   ]
  },
  {
   "cell_type": "code",
   "execution_count": 2,
   "metadata": {
    "id": "pAHw9Xf9oGoi"
   },
   "outputs": [
    {
     "name": "stdout",
     "output_type": "stream",
     "text": [
      "Salário semanal bruto: R$ 800\n",
      "Salário semanal líquido: R$ 680.0\n"
     ]
    }
   ],
   "source": [
    "salario_por_hora = 20\n",
    "horas_trabalhadas = 40\n",
    "\n",
    "salario_bruto = salario_por_hora * horas_trabalhadas\n",
    "\n",
    "salario_liquido = salario_bruto - (salario_bruto * 0.10 + salario_bruto * 0.05)\n",
    "\n",
    "print(\"Salário semanal bruto: R$\", salario_bruto)\n",
    "print(\"Salário semanal líquido: R$\", salario_liquido)"
   ]
  },
  {
   "cell_type": "markdown",
   "metadata": {
    "id": "m8tlHRuWpBOB"
   },
   "source": [
    "### Q3\n",
    "\n",
    "Você está desenvolvendo um software de conversão de moeda e precisa calcular o valor equivalente em yuan chinês a partir de uma quantia em real. A taxa de câmbio é de 0.69 BRL (real) para 1 CNY (yuan). Escreva um programa que define em uma variável uma quantia em reais (BRL) e calcula o valor equivalente em yuan (CNY). Imprima o resultado."
   ]
  },
  {
   "cell_type": "code",
   "execution_count": 3,
   "metadata": {
    "id": "2bPw7uF6oeL9"
   },
   "outputs": [
    {
     "name": "stdout",
     "output_type": "stream",
     "text": [
      "R$ 100 equivalem a ¥ 144.93 (yuan chinês)\n"
     ]
    }
   ],
   "source": [
    "valor_brl = 100 \n",
    "\n",
    "taxa_brl_por_cny = 0.69\n",
    "\n",
    "valor_cny = valor_brl / taxa_brl_por_cny\n",
    "\n",
    "print(f\"R$ {valor_brl} equivalem a ¥ {valor_cny:.2f} (yuan chinês)\")"
   ]
  },
  {
   "cell_type": "markdown",
   "metadata": {
    "id": "-Na3ltDCp74A"
   },
   "source": [
    "### Q4\n",
    "\n",
    "Você é um treinador de corrida e deseja calcular a velocidade média que um atleta precisa manter para completar a Maratona Internacional de São Silvestre, que tem uma distância total de 42.195 km. A fórmula para calcular a velocidade média ($v\\_media$) é dada por $v\\_media = \\frac{distancia}{tempo}$ . Escreva um programa em Python para calcular a velocidade média necessária para completar a maratona em 3 horas.\n",
    "\n",
    "**Calcule e imprima o resultado em metros/segundo**, ou seja, converta a distância de quilômetros para metros ($metro = \\frac{km}{1000}$) e a velocidade de horas para segundos $(segundo = \\frac{hora}{3600})$."
   ]
  },
  {
   "cell_type": "code",
   "execution_count": 4,
   "metadata": {
    "id": "Bn6l8kcSrE4L"
   },
   "outputs": [
    {
     "name": "stdout",
     "output_type": "stream",
     "text": [
      "Velocidade média necessária: 3.91 m/s\n"
     ]
    }
   ],
   "source": [
    "distancia_km = 42.195  \n",
    "tempo_horas = 3     \n",
    "\n",
    "distancia_metros = distancia_km * 1000      # km → m\n",
    "tempo_segundos = tempo_horas * 3600         # h → s\n",
    "\n",
    "velocidade_media = distancia_metros / tempo_segundos\n",
    "\n",
    "print(f\"Velocidade média necessária: {velocidade_media:.2f} m/s\")"
   ]
  },
  {
   "cell_type": "code",
   "execution_count": null,
   "metadata": {},
   "outputs": [],
   "source": []
  }
 ],
 "metadata": {
  "colab": {
   "provenance": []
  },
  "kernelspec": {
   "display_name": "Python [conda env:base] *",
   "language": "python",
   "name": "conda-base-py"
  },
  "language_info": {
   "codemirror_mode": {
    "name": "ipython",
    "version": 3
   },
   "file_extension": ".py",
   "mimetype": "text/x-python",
   "name": "python",
   "nbconvert_exporter": "python",
   "pygments_lexer": "ipython3",
   "version": "3.13.5"
  }
 },
 "nbformat": 4,
 "nbformat_minor": 4
}
